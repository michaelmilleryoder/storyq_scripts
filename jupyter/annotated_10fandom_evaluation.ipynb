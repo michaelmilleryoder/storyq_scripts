{
 "cells": [
  {
   "cell_type": "markdown",
   "metadata": {},
   "source": [
    "# Evaluate heuristic filtering characters to just those with quotes and assertions"
   ]
  },
  {
   "cell_type": "markdown",
   "metadata": {},
   "source": [
    "## Load pipeline output"
   ]
  },
  {
   "cell_type": "code",
   "execution_count": 3,
   "metadata": {
    "scrolled": true
   },
   "outputs": [
    {
     "data": {
      "text/plain": [
       "{'drwho_8333365': ['the_Doctor', 'no_day', 'Clara', 'Miss'],\n",
       " 'dragonage_4305894': ['the_Tevinter',\n",
       "  'Lavellan',\n",
       "  'Sera',\n",
       "  'Solas',\n",
       "  '”_Dorian',\n",
       "  'Leliana',\n",
       "  'The_Dread_Wolf',\n",
       "  'The_Well_of_Sorrows'],\n",
       " 'tolkien_2185500': ['female_Fíli',\n",
       "  'both_Bilbos',\n",
       "  'the_Thorin',\n",
       "  'Female_Thorin',\n",
       "  'Male_Bilbo',\n",
       "  'Male_Thorin',\n",
       "  'Female_Bilbo',\n",
       "  'The_female_Gandalf',\n",
       "  '”_female_Kíli',\n",
       "  '”_female_Bilbo'],\n",
       " 'starwars_6082176': ['the_Force',\n",
       "  'Good_night',\n",
       "  'Tahari',\n",
       "  'Jaina',\n",
       "  'Mara',\n",
       "  'their_infant_son_Ben',\n",
       "  'Luke',\n",
       "  'Booster',\n",
       "  'the_Yuuzhan_Vong',\n",
       "  'my_fellow_Jedis',\n",
       "  'this_night',\n",
       "  'the_deadly_Yuuzhan_Vong',\n",
       "  'Jedi_Goshyn_Maul',\n",
       "  'including_Anakin',\n",
       "  'Anakin_Solo',\n",
       "  'Han',\n",
       "  'Master_Skywalker',\n",
       "  'Young_Ben',\n",
       "  '”_Leia',\n",
       "  'A_Celebration'],\n",
       " 'teenwolf_3150806': ['Scott_McCall', '”_Stiles', 'Dude', '”_Derek', 'Derek'],\n",
       " 'sherlock_1296961': ['Sherlock',\n",
       "  'her_Sarah',\n",
       "  'the_night',\n",
       "  'Jeanette',\n",
       "  'John_Watson',\n",
       "  'Lestrade',\n",
       "  'Alison'],\n",
       " 'supernatural_1813147': ['Uriel',\n",
       "  'Heaven',\n",
       "  'Castiel',\n",
       "  'Michael',\n",
       "  'the_day',\n",
       "  'God'],\n",
       " 'harrypotter_2287736': ['It_s_Harry',\n",
       "  'our_Mr_Potter-',\n",
       "  'Task',\n",
       "  'Harry',\n",
       "  'the_Tournament',\n",
       "  'your_Hermione',\n",
       "  'Cedric',\n",
       "  'Krum',\n",
       "  'The_Triwizard_Cup',\n",
       "  'Professor_Dumbledore',\n",
       "  'The_Cup',\n",
       "  'The_Skrewt'],\n",
       " 'allmarvel_606106': ['Coulson',\n",
       "  'Christmas',\n",
       "  'Clint',\n",
       "  'Captain_Steve_Rogers',\n",
       "  'the_morning',\n",
       "  'night',\n",
       "  'Thor',\n",
       "  'The_spirit_Bruce',\n",
       "  'Howard',\n",
       "  'Jarvis',\n",
       "  'Anthony_Edward_Stark',\n",
       "  'Tony_Stark',\n",
       "  'Maria',\n",
       "  'Even_Natasha'],\n",
       " 'dcu_16369049': ['Joe',\n",
       "  'the_Merpeople',\n",
       "  'Ralph',\n",
       "  'Ronnie',\n",
       "  'Cynthia',\n",
       "  'Big_Belly_Burger',\n",
       "  'Killer_Frost',\n",
       "  '”_Cisco',\n",
       "  'Caitlin',\n",
       "  'the_Star_Labs_Van',\n",
       "  'the_Internet',\n",
       "  'Aquaman_Cisco',\n",
       "  '”_Barry',\n",
       "  'the_App_Store',\n",
       "  'the_Bretans',\n",
       "  'Barry_for_the_mouse',\n",
       "  '”_Iris',\n",
       "  'Barry_Allen',\n",
       "  'Julian']}"
      ]
     },
     "execution_count": 3,
     "metadata": {},
     "output_type": "execute_result"
    }
   ],
   "source": [
    "import os\n",
    "\n",
    "output_dirpath = '/data/fanfiction_ao3/annotated_10fandom/test/pipeline_output_orig'\n",
    "char_dirpath = os.path.join(output_dirpath, 'char_coref_chars')\n",
    "pipeline_chars = {}\n",
    "for fname in os.listdir(char_dirpath):\n",
    "    story = fname.split('.')[0]\n",
    "    with open(os.path.join(char_dirpath, fname)) as f:\n",
    "        pipeline_chars[story] = f.read().splitlines()\n",
    "pipeline_chars"
   ]
  },
  {
   "cell_type": "markdown",
   "metadata": {},
   "source": [
    "## Retrieve quotes and assertions"
   ]
  },
  {
   "cell_type": "code",
   "execution_count": 9,
   "metadata": {
    "scrolled": true
   },
   "outputs": [
    {
     "data": {
      "text/plain": [
       "{'drwho_8333365': ['Clara'],\n",
       " 'dragonage_4305894': ['Lavellan', 'Sera', '”_Dorian', 'Leliana'],\n",
       " 'tolkien_2185500': ['female_Fíli',\n",
       "  'both_Bilbos',\n",
       "  'the_Thorin',\n",
       "  'Female_Thorin',\n",
       "  'Male_Bilbo',\n",
       "  'Male_Thorin',\n",
       "  'Female_Bilbo',\n",
       "  'The_female_Gandalf',\n",
       "  '”_female_Kíli',\n",
       "  '”_female_Bilbo'],\n",
       " 'starwars_6082176': ['Jaina',\n",
       "  'Mara',\n",
       "  'their_infant_son_Ben',\n",
       "  'Luke',\n",
       "  'Booster',\n",
       "  'Jedi_Goshyn_Maul',\n",
       "  '”_Leia',\n",
       "  'A_Celebration'],\n",
       " 'teenwolf_3150806': ['Scott_McCall', '”_Stiles', '”_Derek', 'Derek'],\n",
       " 'sherlock_1296961': ['Sherlock', 'John_Watson'],\n",
       " 'supernatural_1813147': [],\n",
       " 'harrypotter_2287736': ['It_s_Harry',\n",
       "  'our_Mr_Potter-',\n",
       "  'Harry',\n",
       "  'Cedric',\n",
       "  'The_Cup',\n",
       "  'The_Skrewt'],\n",
       " 'allmarvel_606106': ['Clint',\n",
       "  'Thor',\n",
       "  'The_spirit_Bruce',\n",
       "  'Jarvis',\n",
       "  'Anthony_Edward_Stark',\n",
       "  'Tony_Stark'],\n",
       " 'dcu_16369049': ['”_Cisco',\n",
       "  'Caitlin',\n",
       "  'the_Star_Labs_Van',\n",
       "  '”_Barry',\n",
       "  'Barry_for_the_mouse',\n",
       "  '”_Iris']}"
      ]
     },
     "execution_count": 9,
     "metadata": {},
     "output_type": "execute_result"
    }
   ],
   "source": [
    "import json\n",
    "import pdb\n",
    "\n",
    "filtered_chars = {} # story: char_list\n",
    "for story in pipeline_chars:\n",
    "    filtered_chars[story] = []\n",
    "    \n",
    "    # Load quotes\n",
    "    with open(os.path.join(output_dirpath, 'quote_attribution', f'{story}.quote.json')) as f:\n",
    "        quotes = json.load(f)\n",
    "    quotes_chars = [entry['speaker'] for entry in quotes]\n",
    "        \n",
    "    # Load assertions\n",
    "    with open(os.path.join(output_dirpath, 'assertion_extraction', f'{story}.json')) as f:\n",
    "        assertions = json.load(f)\n",
    "    assertions_chars = assertions.keys()\n",
    "    \n",
    "    for char in pipeline_chars[story]:\n",
    "        char_assertions = assertions.keys()\n",
    "        if char in quotes_chars and char in assertions_chars:\n",
    "            filtered_chars[story].append(char)\n",
    "filtered_chars"
   ]
  },
  {
   "cell_type": "code",
   "execution_count": 11,
   "metadata": {},
   "outputs": [],
   "source": [
    "# Write out filtered character list\n",
    "filtered_dirpath = '/data/fanfiction_ao3/annotated_10fandom/test/output_filtered'\n",
    "for story, chars in filtered_chars.items():\n",
    "    with open(os.path.join(filtered_dirpath, 'char_coref_chars', f'{story}.chars'), 'w') as f:\n",
    "        for char in sorted(chars):\n",
    "            f.write(f'{char}\\n')"
   ]
  },
  {
   "cell_type": "markdown",
   "metadata": {},
   "source": [
    "# Check/compare pipeline output"
   ]
  },
  {
   "cell_type": "code",
   "execution_count": 6,
   "metadata": {
    "scrolled": true
   },
   "outputs": [
    {
     "data": {
      "text/plain": [
       "0                                                                                                                                                                                                                                                                                                                                                                                                                                                                                                                                                                                                                                                                                                                                                                                                                                                                                                                                                                                                                                                                                                                                                                                                                                                                                                                                                                                                                                                                                                                                                                                                                                                                                                                                                                                                                                                                                                                                                                                                                                                                                                                                                                                                                                                                                                                                                                                                                                                                                                                                                                                                                                                                                                                                                                                                                                                                                                                                                                                                                                                                                                                                                                                                                                                                                                                                                                                                                                                                                                                                                                                                                                                                                                                                                                                                                                                                                                                                                                                                                                                                                                                                                                                                                                                                                                                                                                                                                                                                                                                                                                                                                                                                                                                                                                                                                                                                                                                                                                                                                                                                                                                                            The Trip To Tentaclus \n",
       "1                                                                                                                                                                                                                                                                                                                                                                                                                                                                                                                                                                                                                                                                                                                                                                                                                                                                                                                                                                                                                                                                                                                                                                                                                                                                                                                                                                                                                                                                                                                                                                                                                                                                                                                                                                                                                                                                                                                                                                                                                                                                                                                                                                                                                                                                                                                                                                                                                                                                                                                                                                                                                                                                                                                                                                                                                                                                                                                                                                                                                                                                                                                                                                                                                                                                                                                                                                                                                                                                                                                                                                                                                                                                                                                                                                                                                                                        16 - year - old Mark lives in a red brick house with <character name=\"Ok_Said_Mark\">his</character> dad , <character name=\"Ok_Said_Mark\">his</character> dad was a scientist <character name=\"Ok_Said_Mark\">he</character> did experiments but one day <character name=\"Ok_Said_Mark\">his</character> house burned down . <character name=\"Ok_Said_Mark\">Mark</character> found a rocket from <character name=\"Ok_Said_Mark\">his</character> dad ’s first experiment 10 years ago <character name=\"Ok_Said_Mark\">he</character> uses the rocket to evacuate the burning house and <character name=\"Ok_Said_Mark\">he</character> ends up landing on a planet called Tentaclus . On the way to Tentaclus <character name=\"Ok_Said_Mark\">he</character> was amazed by everything , especially the power of the rocket . <character name=\"Ok_Said_Mark\">He</character> concluded from all of <character name=\"Ok_Said_Mark\">his</character> smarts about rockets that the engine included nuclear energy plasma energy and hydrogen , but when <character name=\"Ok_Said_Mark\">he</character> got to the unknown planet <character name=\"Ok_Said_Mark\">he</character> was amazed and surprised at the same time . Weirdly <character name=\"Ok_Said_Mark\">he</character> did n't need a space suit to breathe ? \n",
       "2                                                                                                                                                                                                                                                                                                                                                                                                                                                                                                                                                                                                                                                                                                                                                                                                                                                                                                                                                                                                                                                                                                                                                                                                                                                                                                                                                                                                                                                                                                                                                                                                                                                                                                                                                                                                                                                                                                                                                                                                                                                                                                                                                                                                                                                                                                                                                                                                                                                                                                                                                                                                                                                                                                                                                                                                                                                                                                                                                                                                                                                                                                                                                                                                                                                                                                                                                                                                                                                                                                                                                                                                                                                                                                                                                                                                                                                      The planet had red color and looked like a bigger version of Mars luckily the planet was only 7 hours away . Rocket lands near an unknown species house . The alien that lived in the house went out to investigate <character name=\"Ok_Said_Mark\">he</character> saw what was an alien to <character name=\"Ok_Said_Mark\">him</character> <character name=\"Ok_Said_Mark\">Mark</character> <character name=\"Ok_Said_Mark\">he</character> decides rather then to start a war <character name=\"Ok_Said_Mark\">he</character> attempts to make friends with <character name=\"Ok_Said_Mark\">Mark</character> . <character name=\"Ok_Said_Mark\">The alien</character> was green , smooth , slimy , and has 8 legs and <character name=\"Ok_Said_Mark\">he</character> said <character name=\"Ok_Said_Mark\">his</character> name was <character name=\"Said_Psics\">Psics</character> . <character name=\"Said_Psics\">Psics</character> told all the other aliens what <character name=\"Ok_Said_Mark\">he</character> discovered the aliens did not like <character name=\"Ok_Said_Mark\">Mark</character> and they did not trust <character name=\"Ok_Said_Mark\">him</character> . The aliens told their lord King Tentaclus !!! <character name=\"Said_King_Tentaclus\">King Tentaclus</character> declared to start a WAR !!! \n",
       "3                                                                                                                                                                                                                                                                                                                                                                                                                                                                                                                                                                                                                                                                                                                                                                                                                                                                                                                                                                                                                                                                                                                                                                                                                                                                                                                                                                                                                                                                                                                                                                                                                                                                                                                                                                                                                                                                                                                                                                                                                                                                                                                                                                                                                                                                                                                                                                                                                                                                                                                                                                                                                                                                                                                                                                                                                                                                                                                                                                                                                                                                                                                                                                                                                                                                                                                                                                                                                                                                                                                                                                                                                                                                                                                                                                                                                                                                                                                                            <character name=\"Said_King_Tentaclus\">King Tentaclus</character> did not trust anything that was not under <character name=\"Said_King_Tentaclus\">his</character> rule . <character name=\"Said_King_Tentaclus\">King Tentaclus</character> researched the human race and <character name=\"Said_King_Tentaclus\">he</character> sent <character name=\"Said_King_Tentaclus\">his</character> alien minions to search for <character name=\"Ok_Said_Mark\">Mark</character> . <character name=\"Said_Psics\">Psics</character> had good photographic memory so <character name=\"Said_King_Tentaclus\">he</character> relocated <character name=\"Ok_Said_Mark\">Mark</character> to <character name=\"Said_King_Tentaclus\">his</character> rocket but rather than leave <character name=\"Ok_Said_Mark\">Mark</character> in <character name=\"Said_Psics\">that position Psics</character> went with <character name=\"Ok_Said_Mark\">Mark</character> . Their rocket was headed back to <character name=\"Ok_Said_Mark\">Mark</character> 's house . King Tentaclus Minions shot Marks rocket . Now <character name=\"Ok_Said_Mark\">Mark</character> and <character name=\"Said_Psics\">Psics</character> landed in an underwater shipwreck . \n",
       "4                                                                                                                                                                                                                                                                                                                                                                                                                                                                                                                                                                                                                                                                                                                                                                                                                                                                                                                                                                                                                                                                                                                                                                                                                                                                                                                                                                                                                                                                                                                                                                                                                                                                                                                                                                                                                                                                                                                                                                                                                                                                                                                                                                                                                                                                                                                                                                                                                                                                                                                                                                                                                                                                                                                                                                                                                                                                                                                                                                                                                                                                                                                                                                                                                                                                                                                                                                                                                                                                                                                                                                                                                                                                                                                                                                                                                                                                                                                                                                                                                                                                                                                                                                                                                                                                                        <character name=\"Said_Psics\">Psics</character> is an inventor that makes machinesto help the other aliens , but now he needed to help <character name=\"Ok_Said_Mark\">Mark</character> ! Psics must make a machine to help <character name=\"Ok_Said_Mark\">Mark</character> . <character name=\"Said_Psics\">Psics</character> thought about an oxygen tank Psics needed to make the oxygen tank quick . Psics made the oxygen tank in surprisingly 30 seconds ! After all he does have 8 legs . He quickly put the oxygen tank on <character name=\"Ok_Said_Mark\">Mark</character> . <character name=\"Ok_Said_Mark\">Mark</character> felt relieved . Psics and <character name=\"Ok_Said_Mark\">Mark</character> decided to explore the shipwreck to find weapons like swords and well - waterlogged pistols . Finally mark found a sword , which meant they both had weapons . \n",
       "5                                                                                                                                                                                                                                                                                                                                                                                                                                                                                                                                                                                                                                                                                                                                                                                                                                                                                                                                                                                                                                                                                                                                                                                                                                                                                                                                                                                                                                                                                                                                                                                                                                                                                                                                                                                                                                                                                                                                                                                                                                                                                                                                                                                                                                                                                                                                                                                                                                                                                                                                                                                                                                                                                                                                                                                                                                                                                                                                                                                                                                                                                                                                                                                                                                                                                                                                                                                                                                                                                                                                                                                                                                                                                                                                                                                                                                              The aliens had a harder time finding <character name=\"Ok_Said_Mark\">Mark</character> and <character name=\"Said_Psics\">Psics</character> since they were underwater they 're tracking devices were only meant to find on land since they 're planet had barely any water . What they did not know was that the ship belonged to a great pirate that could only die if he touched water that pirate would perish that day when his ship was boarded and sank from the other ships cannonballs . \" Maybe we can find soggy bread ” <character name=\"Ok_Said_Mark\">Mark</character> asked doubted . \" What is bread Mark \" Psics questioned . \" Bread is something us humans eat . \" \" Oh us aliens eat well only rocks it 's our diet . \" \" We could find bread but probably just like us we do n’t like wet rocks and you most likely do n’t like wet bread . \" \" It s better to have wet bread than nothing \" said <character name=\"Ok_Said_Mark\">Mark</character> . Let s explore that shipwreck . \" Mark I found a crate \" Psics exclaimed . \" We should open it <character name=\"Ok_Said_Mark\">Mark</character> , ” said <character name=\"Said_Psics\">Psics</character> . \" Wait look to the right Psics it 's a room somehow completely intact ” . \" I think that is suspicious . \" Let s open the door . WOAH ! \n",
       "6                                                                                                                                                                                                                                                                                                                                                                                                                                                                                                                                                                                                                                                                                                                                                                                                                                                                                                                                                                                                                                                                                                                                                                                                                                                                                                                                                                                                                                                                                                                                                                                                                                                                                                                                                                                                                                                                                                                                                                                           <character name=\"Ok_Said_Mark\">Mark</character> grabbed <character name=\"Ok_Said_Mark\">his</character> sword . <character name=\"Said_Psics\">Psics</character> grabbed <character name=\"Said_Psics\">his</character> well lazer beam . There was a blue girl in the corner of the room . Wait wait do not shoot I am on your side ! The blue girl said . What how are you on our side ? <character name=\"Ok_Said_Mark\">Said Mark</character> . How do you know about us ? How are you on our side ? Well I am the god of the sea . Wow really ? <character name=\"Said_Psics\">Said Psics</character> . I m just an inventor ... Well you would help as an inventor against the invading aliens . I brang the aliens to earth ? <character name=\"Ok_Said_Mark\">Said Mark</character> . Well since I am the god of sea I want the sea to be safe these aliens will mess up the sea by first giving the sea pollutants and ... HEY said <character name=\"Said_Psics\">Psics</character> . I thought you were on our side ! You are . Said the blue girl . I mean 1 alien does not effect water but there is at least 125 aliens up there . Well now that I can continue with what i was going to say the aliens may ... Well if you are on our side . <character name=\"Ok_Said_Mark\">Mark</character> said . What is your name ? My name is ... her voice trailed off the sea god . With all due respect but that is not a name . Let s call <character name=\"Said_Wave\">her Wave</character> ! <character name=\"Said_Psics\">Psics</character> suggested . <character name=\"Said_Psics\">It</character> has to do with water . Yes that will be my name said <character name=\"Said_Wave\">Wave</character> . Now since i can hopefully continue again who knows maybe the aliens will use their lazer beams and make the water evaporate so either way we must terminate these aliens except <character name=\"Said_Psics\">Psics</character> I guess . First I am hungry . <character name=\"Ok_Said_Mark\">Said Mark</character> . Well that crate had bread It 's been 15 hours since I have ate anything . Only 15 hours ? <character name=\"Said_Psics\">Said Psics</character> . We Octosai must wait 18 hours 33 minutes and 14 seconds for each rock . <character name=\"Ok_Said_Mark\">Ok ..... Said Mark</character> . Meanwhile at planet Tentaclus . It appears that <character name=\"Said_Psics\">Psics</character> had betrayed us . <character name=\"Said_King_Tentaclus\">King Tentaclus</character> said . <character name=\"Said_King_Tentaclus\">You</character> Octosai simply must find Mark and <character name=\"Said_Psics\">Psics</character> . Boss our tracking devices can not find them underwater . Said Legodon the leader of the alien troop . How do <character name=\"Said_King_Tentaclus\">you</character> know he is underwater ? <character name=\"Said_King_Tentaclus\">King Tentaclus</character> said . There is a touch of green stuffwhich is what they used to make their ship land here . Well then send 3 Octasai to the aproximate landing site . The 3 aliens names were <character name=\"Said_Greeno\">Greeno</character> , Mr. Octo , an LT.Leg . \n",
       "7                                                                                                                                                                                                                                                                                                                                                                                                                                                                                                                                                                                                                                                                                                                                                                                                                                                                                                                                                                                                                                                                                                                                                                                                                                                                                                                                                                                                                                                                                                                                                                                                                                                                                                                                                                                                                                                                                                                                                                                                                                                                                                                                                                                                                                                                                                                                                                                                                                                                                                                                                                                                                                                                                                                                                                                                                                                                                                                                                                                                                                                                                                                                                                                                                                                                                                                                                                                                                                                                                                                                                                                                                                                                                                                                                                                                                                                                                                                                                                                                                                                                                                                                                                                                                                                                                                                     Hey Octasai ! Look over here I found something . What is it <character name=\"Said_Greeno\">Greeno</character> ? Asked <character name=\"LT_Leg_Sunken_Ship\">LT. Leg Sunken Ship</character> ! <character name=\"Said_Greeno\">Greeno</character> replied . Well well well lets search . <character name=\"Said_Mr_Octo\">Said Mr. Octo</character> . So do <character name=\"Said_King_Tentaclus\">you</character> have any powers or something ? Asked <character name=\"Ok_Said_Mark\">Mark</character> . I have the power to summon tidal waves and rarely tsunamis . <character name=\"Said_King_Tentaclus\">YOU</character> CAN HELP US DEFEAT THE ALIENS ! Screamed <character name=\"Ok_Said_Mark\">Mark</character> . Yes I can . Said Wave . I think I heard something . <character name=\"Said_Greeno\">Said Greeno</character> . It 's that way . \n",
       "8                                                                                                                                                                                                                                                                                                                                                                                                                                                                                                                                                                                                                                                                                                                                                                                                                                                                                                                                                                                                                                                                                                                                                                                                                                                                                                                                                                                                                                                                                                                                                                                                                                                                                                                                                                                                                                                                                                                                                                                                                                                                                                                                                                                                                                                                                                                                                                                                                                                                                                                                                                                                                                                                                                                                                                                                                                                                                                                                                                                                                                                                                                                                                                                                                                                                                                                                                                                                                                                                                                                                                                                                                                                                                                                                                                                                                                                                                                                                                                                                                                                                                                                                                                                                                                                                                                                                                                          I think <character name=\"LT_Leg_Sunken_Ship\">this sunken ship</character> is meant to be a maze . <character name=\"Said_Greeno\">Said Greeno</character> . Quiet ! Whispered LT. Leg I heard some talking behind that door . Pull out <character name=\"Said_King_Tentaclus\">your</character> laser beams ! <character name=\"Said_Mr_Octo\">Said Mr. Octo</character> . I think I hear <character name=\"Said_Psics\">Psics</character> . <character name=\"Said_LT_Leg\">Said LT. Leg</character> . <character name=\"Said_Greeno\">Greeno</character> peaked through the hole in the door . There ’s an alien with an oxygen tank on <character name=\"Said_Greeno\">his</character> back and <character name=\"Said_Greeno\">he</character> ’s eating something ... Psics heard them whispering . \n",
       "9                                                                                                                                                                                                                                                                                                                                                                                                                                                                                                                                                                                                                                                                                                                                                                                                                                                                                                                                                                                                                                                                                                                                                                                                                                                                                                                                                                                                                                                                                                                                                                                                                                                                                                                                                                                                                                                                                                                                                                                                                                                                                                                                                                                                                                                                                                                                                                                                                                                                                                                                                                                                                                                                                                                                                                                                                                                                                                                                                                                                                                                                                                                                                                                                                                                                                                                                                                                                                                                                                                                                                                                                                                                                                                                                                                                                                                                                                                                                                                                                                          <character name=\"Ok_Said_Mark\">Mark</character> gets <character name=\"Said_King_Tentaclus\">your</character> sword ! <character name=\"Said_Psics\">Psics</character> said . Ok why ? There are <character name=\"5_Octosai_per_UFO\">Octosai</character> looking at us . Wait they know were here ? <character name=\"Said_Greeno\">Said Greeno</character> . Let s open the door ! Well look who it is . <character name=\"Said_LT_Leg\">Said LT. Leg</character> . They shot Psics in the leg . Ouch . Groaned <character name=\"Said_Psics\">Psics</character> . You might as well give up ! <character name=\"Said_Greeno\">Said Greeno</character> . Psics ! <character name=\"Ok_Said_Mark\">Mark</character> grabbed <character name=\"Ok_Said_Mark\">his</character> sword . <character name=\"Said_Greeno\">Greeno</character> tried to shoot <character name=\"Ok_Said_Mark\">Mark</character> but <character name=\"Ok_Said_Mark\">Mark</character> reflected it . <character name=\"Ok_Said_Mark\">Mark</character> stabbed <character name=\"Said_Greeno\">Greeno</character> . <character name=\"Said_Greeno\">Greeno</character> fell on the floor . \n",
       "10                                                                                                                                                                                                                                                                                                                                                                                                                                                                                                                                                                                                                                                                                                                                                                                                                                                                                                                                                                                                                                                                                                                                                                                                                                                                                                                                                                                                                                                                                                                                                                                                                                                                                                                                                                                                                                                                                                                                                                                                                                                                                                                                                                                                                                                                                                                                                                                                                                                                                                                                                                                                                                                                                                                                                                                                                                                                                                                                                                                                                                                                                                                                                                                                                                                                                                                                                                                                                                                                                                                                                                                                                                                                                                                                                                                                                                                                                                                                                                                                                                                                                                                                                                                                                                                                                                                                                                                            Oh no ! Retreat . <character name=\"Said_LT_Leg\">Said LT. Leg</character> . Who are you creatures ! Wave questioned . They are ... Ouch . Groaned <character name=\"Said_Psics\">Psics</character> . Oc… to ... saiiiiiii . Psics ? Come my goldfish army . Yes ? The goldfish asked . Carry <character name=\"the_Octosai\">the Octosai</character> to the fish nursery . Is he going to be okay ? Asked <character name=\"Ok_Said_Mark\">Mark</character> . Yes the fish nursery has cured everything from guppies to whales . Wave said . <character name=\"Said_Psics\">Psics</character> is an alien though . <character name=\"Ok_Said_Mark\">Mark</character> said . Good point . <character name=\"Said_Wave\">Said Wave</character> . I have faith in the fish nursery . \n",
       "11                                                                                                                                                                                                                                                                                                                                                                                                                                                                                                                                                                                                                                                                                                                                                                                                                                                                                                                                                                                                                                                                                                                                                                                                                                                                                                                                                                                                                                                                                                                                                                                                                                                                                                                                                                                                                                                                                                                                                                                                                                                                                                                                                                                                                                                                                                                                                                                                                                                                                                                                                                                                                                                                                                                                                                                                                                                                         How about that guy ? He ’s dead . <character name=\"Said_Wave\">Said Wave</character> . No bringing him back . I guess I did stab him . <character name=\"Ok_Said_Mark\">Said Mark</character> . Come <character name=\"the_crab_crew_Pinchy\">my crab crew</character> . Yes , Sea god ? You can call me wave you know . Ok wave but what do we need to do . You must find two green and slimy Octosai . <character name=\"Ok_Said_Mark\">Ok</character> said the crabs . Once you do lead them towards us . Ok . <character name=\"Ok_Said_Mark\">It</character> wo n’t be long now . <character name=\"Said_Wave\">Said Wave</character> . Come towards us you stupid slimy beasts . Said the leader of <character name=\"the_crab_crew_Pinchy\">the crab crew Pinchy</character> . Let s shoot them ! They are to fast for our guns ! <character name=\"Said_Mr_Octo\">Said Mr. Octo</character> . Open the door Wave ! You better surrender ! <character name=\"Said_Wave\">Said Wave</character> . NO ! <character name=\"Said_LT_Leg\">Said LT. Leg</character> Come my shark squad ! Even more animals , <character name=\"Ok_Said_Mark\">Said Mark</character> . NOOOOOOOOO . The shark squad leader named Sharkie ate <character name=\"Said_LT_Leg\">LT. Leg</character> . All right sharks lets eat <character name=\"Said_LT_Leg\">him</character> ! No please ! The sharks ate <character name=\"Said_Mr_Octo\">Mr. Octo</character> . The leader of the fish nursery named Goldie said . All right lets use the healing pool to heal <character name=\"Said_Psics\">Psics</character> wound . I feel better . <character name=\"Said_Psics\">Psics</character> said . You should rest for now Psics you must heal . Ok . <character name=\"Said_Psics\">Psics</character> responded . <character name=\"Said_Octodon\">Octodon</character> pulled out <character name=\"Said_Octodon\">his</character> phone or the <character name=\"the_Octosai\">Octosai</character> think of it as an Octo - Talker . <character name=\"Said_Mr_Octo\">Mr. Octo</character> , do you read ? <character name=\"Said_Greeno\">Greeno</character> are you there ? Please tell me your there <character name=\"Said_LT_Leg\">LT. Leg</character> . I guess we must use <character name=\"Said_Psics\">Psics</character> to communicate . \n",
       "12                                                                                                                                                                                                                                                                                                                                                                                                                                                                                                                                                                                                                                                                                                                                                                                                                                                                                                                                                                                                                                                                                                                                                                                                                                                                                                                                                                                                                                                                                                                                                                                                                                                                                                                                                                                                                                                                                                                                                                                                                                                                                                                                                                                                                                                                                                                                                                                                                                                                                                                                                                                                                                                                                                                                                                                                                                                                                                                                                                                                                                                                                                                                                                                                                                                                                                                                                                                                                                                                                                                                                                                                                                                                                                                                                                                                                                                                                                                                                                                                                                                                                                                                                                                                                                                                                                                                        Hi <character name=\"Said_Psics\">Psics</character> feeling better ? Asked <character name=\"Ok_Said_Mark\">Mark</character> . Yes ... Hey you poor excuse of an inventor . <character name=\"Said_Octodon\">Said Octodon</character> . Come up here or ill make you come up here . What will you do <character name=\"Said_Octodon\">Octodon</character> ? I will evaporate this water . Unless ... You come up here for me to kill you and that boy . Oh no not the water . <character name=\"Said_Wave\">Said Wave</character> . We simply must come up there . Yeah we humans ca n’t run out of water ! <character name=\"Ok_Said_Mark\">Mark</character> said . Yes fine we will come up . You have 5 minutes to come up here . By the way , <character name=\"Said_Psics\">Psics</character> said it would be you who will die . \n",
       "13    Well Psics the clock is ticking . <character name=\"Said_Octodon\">Said Octodon</character> . How are we going to get up there so fast ?! <character name=\"Ok_Said_Mark\">Said Mark</character> . I have an idea . <character name=\"Said_Wave\">Said Wave</character> . Let me guess a goldfish group ? <character name=\"Ok_Said_Mark\">Said Mark</character> . No I will use bubbles so we jet to the surface quickly . <character name=\"Said_Wave\">Said Wave</character> . <character name=\"Alright\">Alright</character> ! <character name=\"Ok_Said_Mark\">Said Mark</character> . Ah they have an unfair advantage . I ca nt swin fast enough to avoid their lazer beams . HAHA ! You fell into my trap . <character name=\"Ok_Said_Mark\">Mark</character> come ! Screamed <character name=\"Said_Psics\">Psics</character> . While <character name=\"Said_Psics\">Psics</character> grabs hold of you I will block you with <character name=\"the_UFO\">my wave wall</character> . <character name=\"Ok_Said_Mark\">Mark</character> got in <character name=\"the_UFO\">the UFO</character> . Psics you have a UFO ? Yes . <character name=\"Said_Psics\">Said Psics</character> . What does this purple button do ? It makes the UFO fire a super powerful Plasma Blaster . Now press it to shoot ! <character name=\"Alright\">Alright</character> ! <character name=\"Ok_Said_Mark\">Said Mark</character> . BOOM . Oh no ! That blaster is a threat ! <character name=\"Said_Octodon\">Octodon</character> said . It killed 5 of my troop . <character name=\"Alright\">Alright</character> we must destroy the button ! Send 3 UFO . Can I keep pressing the button ? No. Said Psics . It has a cooldown time . Oh . <character name=\"Ok_Said_Mark\">Said Mark</character> . There is other beams like a freeze ray . YES I froze my first UFO . Were going down ! Said an Octosai . Is there any other beams ? <character name=\"Ok_Said_Mark\">Said Mark</character> . Those are my only 2 beams . <character name=\"Said_Psics\">Said Psics</character> . ONLY TWO ?! <character name=\"Ok_Said_Mark\">Said Mark</character> . Oh no 2 UFO's are coming to us each of them have <character name=\"5_Octosai_per_UFO\">5 Octosai per UFO</character> . Fire the plasma blaster . BOOM . Ha bye bye second UFO . Where is the third one ? Say bye Psics ! Oh no 5 <character name=\"5_Octosai_per_UFO\">Octosai</character> . You will be sorry you messed with us . <character name=\"Ok_Said_Mark\">Mark</character> stabbed an Octosai . <character name=\"Said_Psics\">Psics</character> shot two . The other two left captured Psics and <character name=\"Ok_Said_Mark\">Mark</character> . Give them to me . <character name=\"Said_Octodon\">Said Octodon</character> . NO ! Said Wave . I will use my ... <character name=\"TIDAL_WAVE\">TIDAL WAVE</character> ! All Octosai point your beams toward <character name=\"TIDAL_WAVE\">that tidal wave</character> ! <character name=\"TIDAL_WAVE\">The tidal wave</character> evaporated . Now I will use my bubble beam ! Ahh ! <character name=\"Said_Wave\">Said Wave</character> . Shoot us again and we will kill Mark ... and <character name=\"Said_Psics\">Psics</character> . Ok ... Now you surrendur . I will surrendur . <character name=\"Said_Wave\">Said Wave</character> . Wave was waiting for a moment to strike with a tsunami she did nt know if she could pull it off though . Turns out we wo nt die right Psics ? <character name=\"Said_Octodon\">Said Octodon</character> . Ugh I hate you Octodon . <character name=\"Said_Psics\">Said Psics</character> . That s what I thought now my Octosai grab the little lady . No please ! <character name=\"Said_Wave\">Said Wave</character> . The dolphins that were near the surface heard Wave crying . They bounced up and bit one of <character name=\"Said_Octodon\">Octodon</character> 's legs . Oh no ! <character name=\"Said_Octodon\">Said Octodon</character> . He fell in the water and was quickly aten by the shark squad . The aliens quickly drew their beams . Wave luckily summoned a whole tsunami to kill all the aliens . <character name=\"Said_King_Tentaclus\">King Tentaclus</character> 's scouts saw what happened . They immediatly reported it to King Tentaclus . Ugh these Octosai can not fight so I will . Let s get in <character name=\"the_UFO\">the UFO</character> . <character name=\"Said_Psics\">Said Psics</character> . <character name=\"Said_King_Tentaclus\">King Tentaclus</character> came to earth in <character name=\"Said_King_Tentaclus\">his</character> UFO . Hello Psics . <character name=\"Said_King_Tentaclus\">Said King Tentaclus</character> . YOU WILL DIE . No we wont ! <character name=\"Ok_Said_Mark\">Mark</character> used the freeze ray to freeze <character name=\"Said_King_Tentaclus\">King Tentaclus</character> 's UFO . <character name=\"Ok_Said_Mark\">Mark</character> shot the plasma blaster and killed <character name=\"Said_King_Tentaclus\">King Tentaclus</character> . We won ! <character name=\"Said_Psics\">Said Psics</character> , <character name=\"Ok_Said_Mark\">Mark</character> , and Wave at the same time . \n",
       "14                                                                                                                                                                                                                                                                                                                                                                                                                                                                                                                                                                                                                                                                                                                                                                                                                                                                                                                                                                                                                                                                                                                                                                                                                                                                                                                                                                                                                                                                                                                                                                                                                                                                                                                                                                                                                                                                                                                                                                                                                                                                                                                                                                                                                                                                                                                                                                                                                                                                                                                                                                                                                                                                                                                                                                                                                                                                                                                                                                                                                                                                                                                                                                                                                                                                                                                                                                 We defeated <character name=\"Said_King_Tentaclus\">King Tentaclus</character> ! <character name=\"Ok_Said_Mark\">Said Mark</character> . What will we do now ? <character name=\"Said_Psics\">Said Psics</character> . I got lucky it was 3 day vacation and I need to go to school but I do n't have a house ........ or a dad . MARK !!!!!!! What s that green thing ? What s that blue girl ? Octodon cloak ! <character name=\"Said_Psics\">Psics</character> said . Now only you and Wave can hear and see me ! Water shroud ! Now only you and Psics can hear me and see me . What were those green thiiiinnnnngggggsssss ? A blue thing as well . Dad ? <character name=\"Ok_Said_Mark\">Said Mark</character> . I have been trying to find you for the last 3 days . Hi dad ! How did you escape ! I used the water hose from my 4th expirement . Oh that ttthhhiiingggg . <character name=\"Ok_Said_Mark\">Said Mark</character> . Well i 'm alive and that s all that matters . So what will we do know ? Asked <character name=\"Ok_Said_Mark\">Mark</character> . I do n't know maybe go to the homeless shelter . The next day . The international bank has been robbed we do not know the suspect but we must find them they have over 8 million dollars . So much people want their money back ! Screamed the news reporter . <character name=\"Said_Psics\">Psics</character> was the robber . So here 's the story . He told <character name=\"Ok_Said_Mark\">Mark</character> where he put 8,789,432 dollars at . <character name=\"Ok_Said_Mark\">Mark</character> got it . <character name=\"Ok_Said_Mark\">Mark</character> and <character name=\"Ok_Said_Mark\">his</character> dad bought a house . They were rich so they were able to recreate Marks old house . There is your happy ending . \n",
       "Name: text_tokenized, dtype: object"
      ]
     },
     "execution_count": 6,
     "metadata": {},
     "output_type": "execute_result"
    }
   ],
   "source": [
    "# Check coref\n",
    "import os\n",
    "import pandas as pd\n",
    "\n",
    "pd.set_option('display.max_colwidth', None)\n",
    "\n",
    "output_dirpath = '/home/mamille2/storyq/student_scifi/output/'\n",
    "for fname in os.listdir(os.path.join(output_dirpath, 'char_coref_stories'))[:2]:\n",
    "    if fname.endswith('.csv'):\n",
    "        data = pd.read_csv(os.path.join(output_dirpath, 'char_coref_stories', fname))\n",
    "data['text_tokenized']"
   ]
  },
  {
   "cell_type": "code",
   "execution_count": 36,
   "metadata": {},
   "outputs": [
    {
     "name": "stdout",
     "output_type": "stream",
     "text": [
      "17\n",
      "15\n"
     ]
    }
   ],
   "source": [
    "# Check quote attribution\n",
    "import json\n",
    "\n",
    "output_dirpath = '/home/mamille2/storyq/student_scifi/output/'\n",
    "filtered_output_dirpath = '/home/mamille2/storyq/student_scifi/output_filtered/'\n",
    "\n",
    "for fname in os.listdir(os.path.join(output_dirpath, 'quote_attribution'))[:1]:\n",
    "    with open(os.path.join(output_dirpath, 'quote_attribution', fname)) as f:\n",
    "        data = json.load(f)\n",
    "        \n",
    "for fname in os.listdir(os.path.join(filtered_output_dirpath, 'quote_attribution'))[:1]:\n",
    "    with open(os.path.join(filtered_output_dirpath, 'quote_attribution', fname)) as f:\n",
    "        filtered_data = json.load(f)\n",
    "        \n",
    "print(len(data))\n",
    "print(len(filtered_data))"
   ]
  },
  {
   "cell_type": "code",
   "execution_count": 38,
   "metadata": {
    "scrolled": true
   },
   "outputs": [
    {
     "data": {
      "text/plain": [
       "['Car_Kaysia',\n",
       " 'Car_Kaysia',\n",
       " 'Car_Kaysia',\n",
       " 'Car_Kaysia',\n",
       " 'Car_Kaysia',\n",
       " 'Maby',\n",
       " 'Car_Kaysia',\n",
       " 'the_Bison',\n",
       " 'Jayson',\n",
       " 'Car_Kaysia',\n",
       " 'the_Bison',\n",
       " 'Bye_Kaysia',\n",
       " 'Bye_Kaysia',\n",
       " 'the_skunks',\n",
       " 'the_skunks',\n",
       " 'Bye_Kaysia',\n",
       " 'Bye_Kaysia']"
      ]
     },
     "execution_count": 38,
     "metadata": {},
     "output_type": "execute_result"
    }
   ],
   "source": [
    "data_speakers = [entry['speaker'] for entry in data]\n",
    "data_speakers"
   ]
  },
  {
   "cell_type": "code",
   "execution_count": 12,
   "metadata": {
    "scrolled": true
   },
   "outputs": [
    {
     "name": "stdout",
     "output_type": "stream",
     "text": [
      "story6.json\n"
     ]
    },
    {
     "data": {
      "text/plain": [
       "{'COYOTES': [' OH MY GOD, WHY DO YOU HAVE COYOTES AND SKUNKS IN A NET?!? WAIT WHY DO YOU HAVE COYOTES AND SKUNKS AT ALL, AND WHAT IS THAT STENCH she screams at me./ I say / \"Wait you caught him?'],\n",
       " 'Phyco': [' Phyco sighs and looks at Kaysia with a pitiful look, / says Phyco./  asked Kysia, phyco nods Kaysia slaps him again without warning./  says Kysia./  says Kaysia.'],\n",
       " 'Kysia': [' Phyco sighs and looks at Kaysia with a pitiful look, / says Phyco./  asked Kysia, phyco nods Kaysia slaps him again without warning./  says Kysia./  says Kaysia.'],\n",
       " 'Saturday': [' /  I said./  said Kaysia. /We call the police as an anonymous and leave. /  said Kaysia./  I say.  I ask Kaysia./  asks./  I say. /We stop walking and she looks at me. /  she says./  I say./ She nods and says,, and walk away./ I super speed home and celebrate my huge victory./']}"
      ]
     },
     "execution_count": 12,
     "metadata": {},
     "output_type": "execute_result"
    }
   ],
   "source": [
    "# Check assertion extraction\n",
    "for fname in os.listdir(os.path.join(output_dirpath, 'assertion_extraction'))[:1]:\n",
    "    print(fname)\n",
    "    with open(os.path.join(output_dirpath, 'assertion_extraction', fname)) as f:\n",
    "        data = json.load(f)\n",
    "        \n",
    "data"
   ]
  },
  {
   "cell_type": "code",
   "execution_count": 13,
   "metadata": {},
   "outputs": [
    {
     "data": {
      "text/plain": [
       "dict_keys(['COYOTES', 'Phyco', 'Kysia', 'Saturday'])"
      ]
     },
     "execution_count": 13,
     "metadata": {},
     "output_type": "execute_result"
    }
   ],
   "source": [
    "data.keys()"
   ]
  },
  {
   "cell_type": "code",
   "execution_count": 14,
   "metadata": {},
   "outputs": [
    {
     "data": {
      "text/plain": [
       "[' Phyco sighs and looks at Kaysia with a pitiful look, / says Phyco./  asked Kysia, phyco nods Kaysia slaps him again without warning./  says Kysia./  says Kaysia.']"
      ]
     },
     "execution_count": 14,
     "metadata": {},
     "output_type": "execute_result"
    }
   ],
   "source": [
    "data['Kysia']"
   ]
  }
 ],
 "metadata": {
  "kernelspec": {
   "display_name": "Python 3",
   "language": "python",
   "name": "python3"
  },
  "language_info": {
   "codemirror_mode": {
    "name": "ipython",
    "version": 3
   },
   "file_extension": ".py",
   "mimetype": "text/x-python",
   "name": "python",
   "nbconvert_exporter": "python",
   "pygments_lexer": "ipython3",
   "version": "3.7.7"
  }
 },
 "nbformat": 4,
 "nbformat_minor": 4
}
