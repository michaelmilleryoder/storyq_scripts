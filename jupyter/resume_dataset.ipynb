{
 "cells": [
  {
   "cell_type": "markdown",
   "id": "successful-writing",
   "metadata": {},
   "source": [
    "# Explore"
   ]
  },
  {
   "cell_type": "code",
   "execution_count": 17,
   "id": "agreed-biodiversity",
   "metadata": {},
   "outputs": [
    {
     "data": {
      "application/vnd.jupyter.widget-view+json": {
       "model_id": "daa8cfeb4d574b6d80d71e8ab3951bfe",
       "version_major": 2,
       "version_minor": 0
      },
      "text/plain": [
       "  0%|          | 0/29783 [00:00<?, ?it/s]"
      ]
     },
     "metadata": {},
     "output_type": "display_data"
    },
    {
     "data": {
      "application/vnd.jupyter.widget-view+json": {
       "model_id": "7611829f726743efaf81fe0f049c6abe",
       "version_major": 2,
       "version_minor": 0
      },
      "text/plain": [
       "  0%|          | 0/29783 [00:00<?, ?it/s]"
      ]
     },
     "metadata": {},
     "output_type": "display_data"
    },
    {
     "data": {
      "text/plain": [
       "29783"
      ]
     },
     "execution_count": 17,
     "metadata": {},
     "output_type": "execute_result"
    }
   ],
   "source": [
    "import os\n",
    "from collections import defaultdict\n",
    "from tqdm.notebook import tqdm\n",
    "\n",
    "dirpath = '/data/storyq/resumes_corpus'\n",
    "resumes = defaultdict(list)\n",
    "\n",
    "text_fnames = [fname for fname in os.listdir(dirpath) if fname.endswith('.txt')]\n",
    "lab_fnames = [fname for fname in os.listdir(dirpath) if fname.endswith('.lab')]\n",
    "\n",
    "for fname in tqdm(text_fnames):\n",
    "    n = fname.split('.')[0]\n",
    "    with open(os.path.join(dirpath, fname), encoding='cp1252') as f:\n",
    "        text = f.read()\n",
    "    resumes[n].append(text)\n",
    "    \n",
    "for fname in tqdm(lab_fnames):\n",
    "    n = fname.split('.')[0]\n",
    "    with open(os.path.join(dirpath, fname)) as f:\n",
    "        labels = f.read().splitlines()\n",
    "    resumes[n].append(labels)\n",
    "        \n",
    "len(resumes)"
   ]
  },
  {
   "cell_type": "code",
   "execution_count": 19,
   "id": "isolated-stream",
   "metadata": {},
   "outputs": [
    {
     "data": {
      "text/plain": [
       "{'Database_Administrator',\n",
       " 'Front_End_Developer',\n",
       " 'Java_Developer',\n",
       " 'Network_Administrator',\n",
       " 'Project_manager',\n",
       " 'Python_Developer',\n",
       " 'Security_Analyst',\n",
       " 'Software_Developer',\n",
       " 'Systems_Administrator',\n",
       " 'Web_Developer'}"
      ]
     },
     "execution_count": 19,
     "metadata": {},
     "output_type": "execute_result"
    }
   ],
   "source": [
    "# Examine labels\n",
    "labels = []\n",
    "for lablist in resumes.values():\n",
    "    if len(lablist) == 2:\n",
    "        labels += lablist[1]\n",
    "set(labels)"
   ]
  },
  {
   "cell_type": "code",
   "execution_count": 41,
   "id": "finished-unknown",
   "metadata": {},
   "outputs": [
    {
     "data": {
      "application/vnd.jupyter.widget-view+json": {
       "model_id": "01ef6cbfe6034232be7d55baf84c34b7",
       "version_major": 2,
       "version_minor": 0
      },
      "text/plain": [
       "  0%|          | 0/29783 [00:00<?, ?it/s]"
      ]
     },
     "metadata": {},
     "output_type": "display_data"
    },
    {
     "name": "stdout",
     "output_type": "stream",
     "text": [
      "black: 685\n",
      "indian: 260\n",
      "women: 220\n",
      "arab: 21\n",
      "japanese: 130\n",
      "asian: 69\n",
      "chinese: 147\n",
      "african: 59\n",
      "middle eastern: 5\n",
      "filipino: 3\n",
      "lgbt: 6\n"
     ]
    }
   ],
   "source": [
    "# Search for any demographic terms in the resume texts\n",
    "import re\n",
    "\n",
    "terms = [\n",
    "    'black',\n",
    "    \"women\",\n",
    "    'asian',\n",
    "    'chinese',\n",
    "    'indian',\n",
    "    'lgbt',\n",
    "    'japanese',\n",
    "    'filipino',\n",
    "    'pakistani',\n",
    "    'arab',\n",
    "    'middle eastern',\n",
    "    'african',\n",
    "]\n",
    "\n",
    "demo_resumes = defaultdict(list)\n",
    "for n, resume in tqdm(resumes.items()):\n",
    "    text = resume[0]\n",
    "    for term in terms:\n",
    "        if re.search(r'\\b{}\\b'.format(term), resume[0].lower()):\n",
    "            demo_resumes[term].append(n)\n",
    "for term in demo_resumes:\n",
    "    print(f'{term}: {len(demo_resumes[term])}')"
   ]
  },
  {
   "cell_type": "code",
   "execution_count": 39,
   "id": "irish-citizen",
   "metadata": {},
   "outputs": [
    {
     "data": {
      "text/plain": [
       "'\\\\bblack\\\\b'"
      ]
     },
     "execution_count": 39,
     "metadata": {},
     "output_type": "execute_result"
    }
   ],
   "source": [
    "r'\\b{}\\b'.format('black')"
   ]
  },
  {
   "cell_type": "code",
   "execution_count": 56,
   "id": "upset-apple",
   "metadata": {},
   "outputs": [
    {
     "data": {
      "text/plain": [
       "'Full Stack Web Developer Full Stack <span class=\"hl\">Web</span> <span class=\"hl\">Developer</span> Web Developer The Colony, TX Full stack web developer with four years of professional experience in web design, web development, small-scale database administration, technical support, and single-office network administration. Adept at learning and applying new methods and frameworks quickly to suit the needs of individual projects while handling multiple issues at once. Capable of self-management, while also passionate about working in teams. Seeking to apply skills and initiative to a dedicated development contract or permanent position in an LGBT-friendly environment. Work Experience Full Stack Web Developer (Independent Contractor) Anelto, Inc. - The Colony, TX January 2019 to Present Dedicated freelance fulltime position involving modifying the client’s website, primarily constructing and progressively expanding an electronic device management dashboard.\\xa0 • Coded components using the IntelliJ IDE, with HTML, CSS, and JavaScript ES6 on the front end\\xa0 • Backend composed of PHP 5.6, a Go API, and MariaDB and MongoDB databases\\xa0 • Constructed data table from scratch using the Tabulator framework, including realtime data display from MongoDB\\xa0 • Integrated Stripe payment system for device monitoring subscription management\\xa0 • Used Git version control with BitBucket Freelance Web Developer The Colony, TX July 2018 to January 2019 Independent freelance position focused on designing and developing websites and web/print graphics, as well as the occasional web app, for local small business owners.\\xa0 • Modifying existing websites, primarily with the VSCode and IntelliJ IDEs, in HTML5, CSS3, JavaScript ES6, and PHP 5 and 7\\xa0 • Managing and modifying MySQL (MariaDB) and NoSQL (MongoDB) databases\\xa0 • Performing CMS-level modifications of WordPress and Joomla websites Web Developer (Aditi Consulting) JCPenney Co. Inc - Plano, TX November 2017 to July 2018 Project-focused team position centred on developing an internal single-page marketing management system (MMS) web app.\\xa0 • Designed front end UI, using whiteboard wireframing and Photoshop mock-ups\\xa0 • Developed front end using HTML5, CSS3, SASS, and TypeScript with Angular 5, alongside Angular Material for visual components\\xa0 • Developed back end using Laravel PHP framework and MariaDB\\xa0 • Worked on a MEMP stack, using JIRA and Stash to collaborate, NPM and Angular CLI to manage packages, and IntelliJ IDEA as IDE\\xa0 • Collaborated with a team of two other developers Web Developer/IT Technician Southwest Management, LLC - Dallas, TX February 2016 to November 2017 Versatile, solitary, small-business position mainly focused on web development, graphic design, IT support, network and server administration, and technology-oriented business analysis, as well as staffing and A/V support during client conferences and events.\\xa0 • Designed, developed, and maintained front and back ends of websites for client organisations and events using HTML5, CSS3, PHP, JavaScript, and jQuery, as well as the Bootstrap, Foundation, and Materialize frameworks, and the WordPress CMS\\xa0 • Used command line Git for version control, and Brackets and VSCode as IDEs\\xa0 • Designed, wireframed, and developed MySQL databases to house and manipulate information Freelance Web Developer January 2015 to February 2016 Independent freelance position focused on designing and developing websites and web/print graphics, as well as the occasional web app, for local small business owners.\\xa0 • Designed and developed sites from scratch without frameworks, primarily with Notepad++, in HTML5, CSS3, and PHP\\xa0 • Developed and implemented admin web app and MySQL database for inventory management\\xa0 • Committed CMS-level modifications of WordPress websites\\xa0 • Provided user-facing support and troubleshooting Volunteer, Information Services SUNY Downstate Medical Center - Brooklyn, NY July 2013 to August 2013 • Provided technical support for users of computers and mobile workstations over the phone and in person\\xa0 • Assembled and configured end-user machine hardware and software\\xa0 • Performed maintenance of server infrastructure running Windows Server 2008 R2\\xa0 • Provided Windows OS support and troubleshooting during large-scale OS migration from Windows XP to Windows 7 Education AAS in Computer Information Systems in Computer Information Systems CUNY Borough of Manhattan Community College - Manhattan, NY August 2013 to May 2015 Skills Javascript (4 years), PHP (4 years), Angular (Less than 1 year), Wordpress (2 years), HTML (4 years), HTML5 (4 years), Bootstrap (2 years), Jquery (4 years), Front End (4 years), Angularjs (Less than 1 year) Assessments Critical Thinking — Expert July 2019 Using logic to solve problems. Full results: https://share.indeedassessments.com/share_assignment/y3-ra7uspafiaelg Indeed Assessments provides skills tests that are not indicative of a license or certification, or continued development in any professional field.'"
      ]
     },
     "execution_count": 56,
     "metadata": {},
     "output_type": "execute_result"
    }
   ],
   "source": [
    "resumes[demo_resumes['lgbt'][5]][0]"
   ]
  }
 ],
 "metadata": {
  "kernelspec": {
   "display_name": "Python 3",
   "language": "python",
   "name": "python3"
  },
  "language_info": {
   "codemirror_mode": {
    "name": "ipython",
    "version": 3
   },
   "file_extension": ".py",
   "mimetype": "text/x-python",
   "name": "python",
   "nbconvert_exporter": "python",
   "pygments_lexer": "ipython3",
   "version": "3.7.9"
  }
 },
 "nbformat": 4,
 "nbformat_minor": 5
}
