{
 "cells": [
  {
   "cell_type": "markdown",
   "metadata": {},
   "source": [
    "# Clean CSVs"
   ]
  },
  {
   "cell_type": "code",
   "execution_count": 5,
   "metadata": {},
   "outputs": [],
   "source": [
    "# Rename CSVs\n",
    "import os\n",
    "csv_dirpath = '/home/mamille2/storyq/shiyan_stories'\n",
    "\n",
    "for fname in os.listdir(csv_dirpath):\n",
    "    new_fname = f'{fname.split(\" - \")[0]}.csv'\n",
    "    old_fpath = os.path.join(csv_dirpath, fname)\n",
    "    new_fpath = os.path.join(csv_dirpath, new_fname)\n",
    "    os.rename(old_fpath, new_fpath)"
   ]
  },
  {
   "cell_type": "code",
   "execution_count": 8,
   "metadata": {},
   "outputs": [
    {
     "data": {
      "text/html": [
       "<div>\n",
       "<style scoped>\n",
       "    .dataframe tbody tr th:only-of-type {\n",
       "        vertical-align: middle;\n",
       "    }\n",
       "\n",
       "    .dataframe tbody tr th {\n",
       "        vertical-align: top;\n",
       "    }\n",
       "\n",
       "    .dataframe thead th {\n",
       "        text-align: right;\n",
       "    }\n",
       "</style>\n",
       "<table border=\"1\" class=\"dataframe\">\n",
       "  <thead>\n",
       "    <tr style=\"text-align: right;\">\n",
       "      <th></th>\n",
       "      <th>story_id</th>\n",
       "      <th>story_name</th>\n",
       "      <th>authors</th>\n",
       "      <th>chapter_id</th>\n",
       "      <th>paragraph_id</th>\n",
       "      <th>text</th>\n",
       "    </tr>\n",
       "  </thead>\n",
       "  <tbody>\n",
       "    <tr>\n",
       "      <th>0</th>\n",
       "      <td>30</td>\n",
       "      <td>Water: the Beginning and the End</td>\n",
       "      <td>Created by Joshua Bechtinger, Sebastian Douillet, Jagger Martinez, Jeremy Tornes, Mathias Vargas</td>\n",
       "      <td>1</td>\n",
       "      <td>1</td>\n",
       "      <td>Water, the beginning and the end....</td>\n",
       "    </tr>\n",
       "    <tr>\n",
       "      <th>1</th>\n",
       "      <td>30</td>\n",
       "      <td>Water: the Beginning and the End</td>\n",
       "      <td>Created by Joshua Bechtinger, Sebastian Douillet, Jagger Martinez, Jeremy Tornes, Mathias Vargas</td>\n",
       "      <td>1</td>\n",
       "      <td>2</td>\n",
       "      <td>This is how it all started..../</td>\n",
       "    </tr>\n",
       "    <tr>\n",
       "      <th>2</th>\n",
       "      <td>30</td>\n",
       "      <td>Water: the Beginning and the End</td>\n",
       "      <td>Created by Joshua Bechtinger, Sebastian Douillet, Jagger Martinez, Jeremy Tornes, Mathias Vargas</td>\n",
       "      <td>1</td>\n",
       "      <td>3</td>\n",
       "      <td>1000 years earlier....</td>\n",
       "    </tr>\n",
       "    <tr>\n",
       "      <th>3</th>\n",
       "      <td>30</td>\n",
       "      <td>Water: the Beginning and the End</td>\n",
       "      <td>Created by Joshua Bechtinger, Sebastian Douillet, Jagger Martinez, Jeremy Tornes, Mathias Vargas</td>\n",
       "      <td>1</td>\n",
       "      <td>4</td>\n",
       "      <td>Miami Summer Friday June, 7 Year 5764/</td>\n",
       "    </tr>\n",
       "    <tr>\n",
       "      <th>4</th>\n",
       "      <td>30</td>\n",
       "      <td>Water: the Beginning and the End</td>\n",
       "      <td>Created by Joshua Bechtinger, Sebastian Douillet, Jagger Martinez, Jeremy Tornes, Mathias Vargas</td>\n",
       "      <td>1</td>\n",
       "      <td>5</td>\n",
       "      <td>4 scientists Juan, Bill, Tania, and Pablo make a machine to produce water! /But there's one problem...... The machine uses too many fossil fuels which makes the sea level rise faster and at the same time the machine is producing water! /The beginning of a distaster!/</td>\n",
       "    </tr>\n",
       "    <tr>\n",
       "      <th>...</th>\n",
       "      <td>...</td>\n",
       "      <td>...</td>\n",
       "      <td>...</td>\n",
       "      <td>...</td>\n",
       "      <td>...</td>\n",
       "      <td>...</td>\n",
       "    </tr>\n",
       "    <tr>\n",
       "      <th>164</th>\n",
       "      <td>30</td>\n",
       "      <td>Water: the Beginning and the End</td>\n",
       "      <td>Created by Joshua Bechtinger, Sebastian Douillet, Jagger Martinez, Jeremy Tornes, Mathias Vargas</td>\n",
       "      <td>8</td>\n",
       "      <td>16</td>\n",
       "      <td>Bill trips:</td>\n",
       "    </tr>\n",
       "    <tr>\n",
       "      <th>165</th>\n",
       "      <td>30</td>\n",
       "      <td>Water: the Beginning and the End</td>\n",
       "      <td>Created by Joshua Bechtinger, Sebastian Douillet, Jagger Martinez, Jeremy Tornes, Mathias Vargas</td>\n",
       "      <td>8</td>\n",
       "      <td>17</td>\n",
       "      <td>Tania: No bill!</td>\n",
       "    </tr>\n",
       "    <tr>\n",
       "      <th>166</th>\n",
       "      <td>30</td>\n",
       "      <td>Water: the Beginning and the End</td>\n",
       "      <td>Created by Joshua Bechtinger, Sebastian Douillet, Jagger Martinez, Jeremy Tornes, Mathias Vargas</td>\n",
       "      <td>8</td>\n",
       "      <td>18</td>\n",
       "      <td>Juan:There is no point we can't out run the Tsunami/</td>\n",
       "    </tr>\n",
       "    <tr>\n",
       "      <th>167</th>\n",
       "      <td>30</td>\n",
       "      <td>Water: the Beginning and the End</td>\n",
       "      <td>Created by Joshua Bechtinger, Sebastian Douillet, Jagger Martinez, Jeremy Tornes, Mathias Vargas</td>\n",
       "      <td>8</td>\n",
       "      <td>19</td>\n",
       "      <td>Tania:You're right I guess our lives end here/</td>\n",
       "    </tr>\n",
       "    <tr>\n",
       "      <th>168</th>\n",
       "      <td>30</td>\n",
       "      <td>Water: the Beginning and the End</td>\n",
       "      <td>Created by Joshua Bechtinger, Sebastian Douillet, Jagger Martinez, Jeremy Tornes, Mathias Vargas</td>\n",
       "      <td>9</td>\n",
       "      <td>1</td>\n",
       "      <td>After the Tsunami hit, the AquaNator produced so many fossil fuels that in 250 years all the ice caps melted. /This wasn't enough for the water to reach the atmosphere.In another 750 years the AquaNator finished the job and by producing more water.There are no sightings of humanity left on Earth.. /We are the only living life in this Galaxy now.. We are the Jiggles.../</td>\n",
       "    </tr>\n",
       "  </tbody>\n",
       "</table>\n",
       "<p>169 rows × 6 columns</p>\n",
       "</div>"
      ],
      "text/plain": [
       "     story_id                        story_name  \\\n",
       "0          30  Water: the Beginning and the End   \n",
       "1          30  Water: the Beginning and the End   \n",
       "2          30  Water: the Beginning and the End   \n",
       "3          30  Water: the Beginning and the End   \n",
       "4          30  Water: the Beginning and the End   \n",
       "..        ...                               ...   \n",
       "164        30  Water: the Beginning and the End   \n",
       "165        30  Water: the Beginning and the End   \n",
       "166        30  Water: the Beginning and the End   \n",
       "167        30  Water: the Beginning and the End   \n",
       "168        30  Water: the Beginning and the End   \n",
       "\n",
       "                                                                                              authors  \\\n",
       "0    Created by Joshua Bechtinger, Sebastian Douillet, Jagger Martinez, Jeremy Tornes, Mathias Vargas   \n",
       "1    Created by Joshua Bechtinger, Sebastian Douillet, Jagger Martinez, Jeremy Tornes, Mathias Vargas   \n",
       "2    Created by Joshua Bechtinger, Sebastian Douillet, Jagger Martinez, Jeremy Tornes, Mathias Vargas   \n",
       "3    Created by Joshua Bechtinger, Sebastian Douillet, Jagger Martinez, Jeremy Tornes, Mathias Vargas   \n",
       "4    Created by Joshua Bechtinger, Sebastian Douillet, Jagger Martinez, Jeremy Tornes, Mathias Vargas   \n",
       "..                                                                                                ...   \n",
       "164  Created by Joshua Bechtinger, Sebastian Douillet, Jagger Martinez, Jeremy Tornes, Mathias Vargas   \n",
       "165  Created by Joshua Bechtinger, Sebastian Douillet, Jagger Martinez, Jeremy Tornes, Mathias Vargas   \n",
       "166  Created by Joshua Bechtinger, Sebastian Douillet, Jagger Martinez, Jeremy Tornes, Mathias Vargas   \n",
       "167  Created by Joshua Bechtinger, Sebastian Douillet, Jagger Martinez, Jeremy Tornes, Mathias Vargas   \n",
       "168  Created by Joshua Bechtinger, Sebastian Douillet, Jagger Martinez, Jeremy Tornes, Mathias Vargas   \n",
       "\n",
       "     chapter_id  paragraph_id  \\\n",
       "0             1             1   \n",
       "1             1             2   \n",
       "2             1             3   \n",
       "3             1             4   \n",
       "4             1             5   \n",
       "..          ...           ...   \n",
       "164           8            16   \n",
       "165           8            17   \n",
       "166           8            18   \n",
       "167           8            19   \n",
       "168           9             1   \n",
       "\n",
       "                                                                                                                                                                                                                                                                                                                                                                                    text  \n",
       "0                                                                                                                                                                                                                                                                                                                                                   Water, the beginning and the end....  \n",
       "1                                                                                                                                                                                                                                                                                                                                                        This is how it all started..../  \n",
       "2                                                                                                                                                                                                                                                                                                                                                                 1000 years earlier....  \n",
       "3                                                                                                                                                                                                                                                                                                                                                 Miami Summer Friday June, 7 Year 5764/  \n",
       "4                                                                                                            4 scientists Juan, Bill, Tania, and Pablo make a machine to produce water! /But there's one problem...... The machine uses too many fossil fuels which makes the sea level rise faster and at the same time the machine is producing water! /The beginning of a distaster!/  \n",
       "..                                                                                                                                                                                                                                                                                                                                                                                   ...  \n",
       "164                                                                                                                                                                                                                                                                                                                                                                          Bill trips:  \n",
       "165                                                                                                                                                                                                                                                                                                                                                                      Tania: No bill!  \n",
       "166                                                                                                                                                                                                                                                                                                                                 Juan:There is no point we can't out run the Tsunami/  \n",
       "167                                                                                                                                                                                                                                                                                                                                       Tania:You're right I guess our lives end here/  \n",
       "168  After the Tsunami hit, the AquaNator produced so many fossil fuels that in 250 years all the ice caps melted. /This wasn't enough for the water to reach the atmosphere.In another 750 years the AquaNator finished the job and by producing more water.There are no sightings of humanity left on Earth.. /We are the only living life in this Galaxy now.. We are the Jiggles.../  \n",
       "\n",
       "[169 rows x 6 columns]"
      ]
     },
     "execution_count": 8,
     "metadata": {},
     "output_type": "execute_result"
    }
   ],
   "source": [
    "# Process CSVs\n",
    "import pandas as pd\n",
    "pd.set_option('display.max_colwidth', None)\n",
    "\n",
    "for fname in os.listdir(csv_dirpath)[:1]:\n",
    "    story = pd.read_csv(os.path.join(csv_dirpath,fname))\n",
    "story"
   ]
  },
  {
   "cell_type": "code",
   "execution_count": 22,
   "metadata": {},
   "outputs": [],
   "source": [
    "# Remove slashes\n",
    "story['text_tokenized'] = story['text'].str.replace('/', '')"
   ]
  },
  {
   "cell_type": "code",
   "execution_count": 13,
   "metadata": {},
   "outputs": [
    {
     "name": "stderr",
     "output_type": "stream",
     "text": [
      "Downloading https://raw.githubusercontent.com/stanfordnlp/stanza-resources/master/resources_1.1.0.json: 122kB [00:00, 17.7MB/s]                    \n",
      "2020-09-11 20:25:22 INFO: Downloading default packages for language: en (English)...\n",
      "Downloading http://nlp.stanford.edu/software/stanza/1.1.0/en/default.zip: 100%|██████████| 428M/428M [01:37<00:00, 4.40MB/s] \n",
      "2020-09-11 20:27:19 INFO: Finished downloading models and saved to /usr0/home/mamille2/stanza_resources.\n"
     ]
    }
   ],
   "source": [
    "import stanza\n",
    "stanza.download('en')"
   ]
  },
  {
   "cell_type": "code",
   "execution_count": 16,
   "metadata": {
    "scrolled": true
   },
   "outputs": [
    {
     "name": "stderr",
     "output_type": "stream",
     "text": [
      "2020-09-11 20:30:53 INFO: Loading these models for language: en (English):\n",
      "=======================\n",
      "| Processor | Package |\n",
      "-----------------------\n",
      "| tokenize  | ewt     |\n",
      "=======================\n",
      "\n",
      "2020-09-11 20:30:53 INFO: Use device: cpu\n",
      "2020-09-11 20:30:53 INFO: Loading: tokenize\n",
      "2020-09-11 20:30:53 INFO: Done loading processors!\n"
     ]
    },
    {
     "data": {
      "text/plain": [
       "['This', 'is', 'a', 'test', '.', 'Testy', 'test', '.']"
      ]
     },
     "execution_count": 16,
     "metadata": {},
     "output_type": "execute_result"
    }
   ],
   "source": [
    "# Tokenize with Stanza\n",
    "import stanza\n",
    "\n",
    "nlp = stanza.Pipeline(lang='en', processors='tokenize')\n",
    "doc = nlp('This is a test.Testy test.')\n",
    "tokens = [token.text for sentence in doc.sentences for token in sentence.tokens]\n",
    "tokens"
   ]
  },
  {
   "cell_type": "code",
   "execution_count": 20,
   "metadata": {},
   "outputs": [],
   "source": [
    "def stanza_tokenize(text):\n",
    "    doc = nlp(text)\n",
    "    return ' '.join([token.text for sentence in doc.sentences for token in sentence.tokens])"
   ]
  },
  {
   "cell_type": "code",
   "execution_count": 23,
   "metadata": {},
   "outputs": [
    {
     "data": {
      "text/plain": [
       "0                                                                                                                                                                                                                                                                                                                                                          Water , the beginning and the end ....\n",
       "1                                                                                                                                                                                                                                                                                                                                                                 This is how it all started ....\n",
       "2                                                                                                                                                                                                                                                                                                                                                                         1000 years earlier ....\n",
       "3                                                                                                                                                                                                                                                                                                                                                          Miami Summer Friday June , 7 Year 5764\n",
       "4                                                                                                                4 scientists Juan , Bill , Tania , and Pablo make a machine to produce water ! But there 's one problem ...... The machine uses too many fossil fuels which makes the sea level rise faster and at the same time the machine is producing water ! The beginning of a distaster !\n",
       "                                                                                                                                                                                                  ...                                                                                                                                                                                            \n",
       "164                                                                                                                                                                                                                                                                                                                                                                                  Bill trips :\n",
       "165                                                                                                                                                                                                                                                                                                                                                                             Tania : No bill !\n",
       "166                                                                                                                                                                                                                                                                                                                                        Juan : There is no point we ca n't out run the Tsunami\n",
       "167                                                                                                                                                                                                                                                                                                                                              Tania : You 're right I guess our lives end here\n",
       "168    After the Tsunami hit , the AquaNator produced so many fossil fuels that in 250 years all the ice caps melted . This was n't enough for the water to reach the atmosphere . In another 750 years the AquaNator finished the job and by producing more water . There are no sightings of humanity left on Earth .. We are the only living life in this Galaxy now .. We are the Jiggles ...\n",
       "Name: text_tokenized, Length: 169, dtype: object"
      ]
     },
     "execution_count": 23,
     "metadata": {},
     "output_type": "execute_result"
    }
   ],
   "source": [
    "story['text_tokenized'] = story['text_tokenized'].map(lambda x: stanza_tokenize(x))\n",
    "story['text_tokenized']"
   ]
  }
 ],
 "metadata": {
  "kernelspec": {
   "display_name": "Python 3",
   "language": "python",
   "name": "python3"
  },
  "language_info": {
   "codemirror_mode": {
    "name": "ipython",
    "version": 3
   },
   "file_extension": ".py",
   "mimetype": "text/x-python",
   "name": "python",
   "nbconvert_exporter": "python",
   "pygments_lexer": "ipython3",
   "version": "3.7.7"
  }
 },
 "nbformat": 4,
 "nbformat_minor": 4
}
