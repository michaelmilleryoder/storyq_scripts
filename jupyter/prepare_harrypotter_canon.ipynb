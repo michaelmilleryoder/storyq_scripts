{
 "cells": [
  {
   "cell_type": "markdown",
   "metadata": {},
   "source": [
    "# Prepare book CSVs"
   ]
  },
  {
   "cell_type": "code",
   "execution_count": 6,
   "metadata": {},
   "outputs": [
    {
     "data": {
      "application/vnd.jupyter.widget-view+json": {
       "model_id": "f10ebedfe0cb4f1dae863f7f99f49443",
       "version_major": 2,
       "version_minor": 0
      },
      "text/plain": [
       "HBox(children=(IntProgress(value=0, max=7), HTML(value='')))"
      ]
     },
     "metadata": {},
     "output_type": "display_data"
    },
    {
     "name": "stdout",
     "output_type": "stream",
     "text": [
      "\n"
     ]
    }
   ],
   "source": [
    "# Load harrypotter canon text\n",
    "import os\n",
    "from tqdm import tqdm_notebook as tqdm\n",
    "from itertools import groupby\n",
    "import pandas as pd\n",
    "\n",
    "hp_dirpath = '/projects/fanfic_embeddings/from_James/canon_data/harry_potter_tokenized/'\n",
    "out_dirpath = '/usr0/home/mamille2/storyq/harrypotter_data/pipeline_input_csv'\n",
    "books = range(1,8)\n",
    "for i in tqdm(books):\n",
    "    fpath = os.path.join(hp_dirpath, f'Harry_Potter_{i}.tokenized.txt')\n",
    "    with open(fpath) as f:\n",
    "        text = f.read().splitlines()\n",
    "        \n",
    "        # Split by chapter\n",
    "        chapters = [list(g) for k,g in groupby(text, key=lambda x: not x.startswith('Chapter')) if k][1:]\n",
    "\n",
    "        # Create csv\n",
    "        outlines = []\n",
    "        for c, chapter in enumerate(chapters):\n",
    "            for p, para in enumerate(chapter):\n",
    "                outlines.append([f'Book {i}', c+1, p+1, para])\n",
    "        df = pd.DataFrame(outlines, columns=['story_name', 'chapter_id', 'paragraph_id', 'text_tokenized'])\n",
    "        df.to_csv(os.path.join(out_dirpath, f'harrypotter_book{i}.csv'), index=False)"
   ]
  },
  {
   "cell_type": "code",
   "execution_count": 5,
   "metadata": {},
   "outputs": [
    {
     "data": {
      "text/plain": [
       "['Chapter 1',\n",
       " 'Chapter 2',\n",
       " 'Chapter 3',\n",
       " 'Chapter 4',\n",
       " 'Chapter 5',\n",
       " 'Chapter 6',\n",
       " 'Chapter 7',\n",
       " 'Chapter 8',\n",
       " 'Chapter 9',\n",
       " 'Chapter 10',\n",
       " 'Chapter 11',\n",
       " 'Chapter 12',\n",
       " 'Chapter 13',\n",
       " 'Chapter 14',\n",
       " 'Chapter 15',\n",
       " 'Chapter 16',\n",
       " 'Chapter 17']"
      ]
     },
     "execution_count": 5,
     "metadata": {},
     "output_type": "execute_result"
    }
   ],
   "source": [
    "chapter_titles = [line for line in text if line.startswith('Chapter')]\n",
    "chapter_titles"
   ]
  },
  {
   "cell_type": "markdown",
   "metadata": {},
   "source": [
    "# Select a few chapter CSVs"
   ]
  },
  {
   "cell_type": "code",
   "execution_count": 7,
   "metadata": {},
   "outputs": [
    {
     "data": {
      "application/vnd.jupyter.widget-view+json": {
       "model_id": "3098f8f81305466bbe5d686e7c62ce04",
       "version_major": 2,
       "version_minor": 0
      },
      "text/plain": [
       "HBox(children=(IntProgress(value=0, max=4), HTML(value='')))"
      ]
     },
     "metadata": {},
     "output_type": "display_data"
    },
    {
     "name": "stdout",
     "output_type": "stream",
     "text": [
      "\n"
     ]
    }
   ],
   "source": [
    "selected_books = [1,3,5,7]\n",
    "\n",
    "for i in tqdm(selected_books):\n",
    "    # Load book\n",
    "    data = pd.read_csv(os.path.join(out_dirpath, f'harrypotter_book{i}.csv'))\n",
    "    \n",
    "    # select chapter\n",
    "    n_chapters = len(data['chapter_id'].unique())\n",
    "    selected_chapter = int(n_chapters/2)\n",
    "    \n",
    "    selected_data = data[data['chapter_id']==selected_chapter]\n",
    "    selected_data.to_csv(os.path.join(out_dirpath, 'chapters', f'harrypotter_book{i}_chapter{selected_chapter}.csv'), index=False)"
   ]
  },
  {
   "cell_type": "code",
   "execution_count": 8,
   "metadata": {},
   "outputs": [
    {
     "data": {
      "text/html": [
       "<div>\n",
       "<style scoped>\n",
       "    .dataframe tbody tr th:only-of-type {\n",
       "        vertical-align: middle;\n",
       "    }\n",
       "\n",
       "    .dataframe tbody tr th {\n",
       "        vertical-align: top;\n",
       "    }\n",
       "\n",
       "    .dataframe thead th {\n",
       "        text-align: right;\n",
       "    }\n",
       "</style>\n",
       "<table border=\"1\" class=\"dataframe\">\n",
       "  <thead>\n",
       "    <tr style=\"text-align: right;\">\n",
       "      <th></th>\n",
       "      <th>story_name</th>\n",
       "      <th>chapter_id</th>\n",
       "      <th>paragraph_id</th>\n",
       "      <th>text_tokenized</th>\n",
       "    </tr>\n",
       "  </thead>\n",
       "  <tbody>\n",
       "    <tr>\n",
       "      <th>3160</th>\n",
       "      <td>Book 7</td>\n",
       "      <td>18</td>\n",
       "      <td>1</td>\n",
       "      <td>The Life and Lies of Albus Dumbledore</td>\n",
       "    </tr>\n",
       "    <tr>\n",
       "      <th>3161</th>\n",
       "      <td>Book 7</td>\n",
       "      <td>18</td>\n",
       "      <td>2</td>\n",
       "      <td>The sun was coming up : The pure , colorless v...</td>\n",
       "    </tr>\n",
       "    <tr>\n",
       "      <th>3162</th>\n",
       "      <td>Book 7</td>\n",
       "      <td>18</td>\n",
       "      <td>3</td>\n",
       "      <td>Without realizing it , he was digging his fing...</td>\n",
       "    </tr>\n",
       "    <tr>\n",
       "      <th>3163</th>\n",
       "      <td>Book 7</td>\n",
       "      <td>18</td>\n",
       "      <td>4</td>\n",
       "      <td>He pulled the pieces of the broken wand out of...</td>\n",
       "    </tr>\n",
       "    <tr>\n",
       "      <th>3164</th>\n",
       "      <td>Book 7</td>\n",
       "      <td>18</td>\n",
       "      <td>5</td>\n",
       "      <td>And his fury at Dumbledore broke over him now ...</td>\n",
       "    </tr>\n",
       "    <tr>\n",
       "      <th>...</th>\n",
       "      <td>...</td>\n",
       "      <td>...</td>\n",
       "      <td>...</td>\n",
       "      <td>...</td>\n",
       "    </tr>\n",
       "    <tr>\n",
       "      <th>3235</th>\n",
       "      <td>Book 7</td>\n",
       "      <td>18</td>\n",
       "      <td>76</td>\n",
       "      <td>Harry dropped his arms .</td>\n",
       "    </tr>\n",
       "    <tr>\n",
       "      <th>3236</th>\n",
       "      <td>Book 7</td>\n",
       "      <td>18</td>\n",
       "      <td>77</td>\n",
       "      <td>“ I do n’t know who he loved , Hermione , but ...</td>\n",
       "    </tr>\n",
       "    <tr>\n",
       "      <th>3237</th>\n",
       "      <td>Book 7</td>\n",
       "      <td>18</td>\n",
       "      <td>78</td>\n",
       "      <td>Harry picked up Hermione ’s wand , which he ha...</td>\n",
       "    </tr>\n",
       "    <tr>\n",
       "      <th>3238</th>\n",
       "      <td>Book 7</td>\n",
       "      <td>18</td>\n",
       "      <td>79</td>\n",
       "      <td>“ Thanks for the tea . I ’ll finish the watch ...</td>\n",
       "    </tr>\n",
       "    <tr>\n",
       "      <th>3239</th>\n",
       "      <td>Book 7</td>\n",
       "      <td>18</td>\n",
       "      <td>80</td>\n",
       "      <td>She hesitated , but recognized the dismissal ....</td>\n",
       "    </tr>\n",
       "  </tbody>\n",
       "</table>\n",
       "<p>80 rows × 4 columns</p>\n",
       "</div>"
      ],
      "text/plain": [
       "     story_name  chapter_id  paragraph_id  \\\n",
       "3160     Book 7          18             1   \n",
       "3161     Book 7          18             2   \n",
       "3162     Book 7          18             3   \n",
       "3163     Book 7          18             4   \n",
       "3164     Book 7          18             5   \n",
       "...         ...         ...           ...   \n",
       "3235     Book 7          18            76   \n",
       "3236     Book 7          18            77   \n",
       "3237     Book 7          18            78   \n",
       "3238     Book 7          18            79   \n",
       "3239     Book 7          18            80   \n",
       "\n",
       "                                         text_tokenized  \n",
       "3160              The Life and Lies of Albus Dumbledore  \n",
       "3161  The sun was coming up : The pure , colorless v...  \n",
       "3162  Without realizing it , he was digging his fing...  \n",
       "3163  He pulled the pieces of the broken wand out of...  \n",
       "3164  And his fury at Dumbledore broke over him now ...  \n",
       "...                                                 ...  \n",
       "3235                           Harry dropped his arms .  \n",
       "3236  “ I do n’t know who he loved , Hermione , but ...  \n",
       "3237  Harry picked up Hermione ’s wand , which he ha...  \n",
       "3238  “ Thanks for the tea . I ’ll finish the watch ...  \n",
       "3239  She hesitated , but recognized the dismissal ....  \n",
       "\n",
       "[80 rows x 4 columns]"
      ]
     },
     "execution_count": 8,
     "metadata": {},
     "output_type": "execute_result"
    }
   ],
   "source": [
    "selected_data"
   ]
  }
 ],
 "metadata": {
  "kernelspec": {
   "display_name": "Python 3",
   "language": "python",
   "name": "python3"
  },
  "language_info": {
   "codemirror_mode": {
    "name": "ipython",
    "version": 3
   },
   "file_extension": ".py",
   "mimetype": "text/x-python",
   "name": "python",
   "nbconvert_exporter": "python",
   "pygments_lexer": "ipython3",
   "version": "3.7.7"
  }
 },
 "nbformat": 4,
 "nbformat_minor": 4
}
